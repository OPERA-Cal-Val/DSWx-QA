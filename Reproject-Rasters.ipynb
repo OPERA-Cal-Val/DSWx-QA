{
 "cells": [
  {
   "cell_type": "code",
   "execution_count": 1,
   "metadata": {},
   "outputs": [],
   "source": [
    "import rasterio\n",
    "from rasterio.merge import merge\n",
    "from rasterio.plot import show\n",
    "import geopandas as gpd\n",
    "from shapely.geometry import box\n",
    "from rasterio.crs import CRS\n",
    "from rasterio.warp import transform_bounds\n",
    "from rasterio.warp import calculate_default_transform, reproject, Resampling\n",
    "import rioxarray\n",
    "import xarray\n",
    "from rioxarray.merge import merge_arrays\n",
    "import os\n",
    "from osgeo import gdal"
   ]
  },
  {
   "cell_type": "code",
   "execution_count": 7,
   "metadata": {},
   "outputs": [],
   "source": [
    "bucket_name = 'opera-pst-rs-pop1'\n",
    "local_path = \"C:/Users/Matthew Bonnema/Documents/dswx_data/wtr/\"\n",
    "local_reproj = \"C:/Users/Matthew Bonnema/Documents/dswx_data/wtr_reproj/\"\n",
    "local_dest = \"C:/Users/Matthew Bonnema/Documents/dswx_data/mosaic_final/\""
   ]
  },
  {
   "cell_type": "code",
   "execution_count": 3,
   "metadata": {},
   "outputs": [
    {
     "name": "stdout",
     "output_type": "stream",
     "text": [
      "s3://opera-pst-rs-pop1/products/OPERA_L3_DSWx_HLS_T01GDM_20220101T214749Z_20221125T202742Z_S2B_30_v0.0/\n",
      "\n"
     ]
    }
   ],
   "source": [
    "with open('dswx_manifest.txt') as f:\n",
    "    lines = f.readlines()\n",
    "\n",
    "print(lines[0])"
   ]
  },
  {
   "cell_type": "code",
   "execution_count": 11,
   "metadata": {},
   "outputs": [],
   "source": [
    "cont = 'na' # af,as,au,na,sa,eu\n",
    "lvl = '01'"
   ]
  },
  {
   "cell_type": "code",
   "execution_count": 12,
   "metadata": {},
   "outputs": [],
   "source": [
    "basin_path  = f'./shapefiles/basins/hybas_{cont}/hybas_{cont}_lev{lvl}_v1c.shp'\n",
    "basin_gdf = gpd.read_file(basin_path)\n",
    "mrg_gdf = gpd.read_file('./shapefiles/world_mgrs/mgrs_region.shp') \n"
   ]
  },
  {
   "cell_type": "code",
   "execution_count": 13,
   "metadata": {},
   "outputs": [
    {
     "data": {
      "text/plain": [
       "2632"
      ]
     },
     "execution_count": 13,
     "metadata": {},
     "output_type": "execute_result"
    }
   ],
   "source": [
    "target_basin =  basin_gdf\n",
    "grid_codes = gpd.sjoin(mrg_gdf,target_basin)\n",
    "tile_list = []\n",
    "for row in grid_codes.iterrows():\n",
    "    tile_list.append(row[1].iloc[0]+row[1].iloc[1])\n",
    "len(tile_list)"
   ]
  },
  {
   "cell_type": "code",
   "execution_count": 14,
   "metadata": {},
   "outputs": [
    {
     "data": {
      "text/plain": [
       "6808"
      ]
     },
     "execution_count": 14,
     "metadata": {},
     "output_type": "execute_result"
    }
   ],
   "source": [
    "keys = []\n",
    "for line in lines:\n",
    "    prefix = line.split(bucket_name+'/')[-1][:-2]\n",
    "    filename = prefix.split('/')[-1]+'_B01_WTR.tiff'#'_B06_WTR-2.tiff'#'_B01_WTR.tiff'\n",
    "    tile = filename.split('_')[4][1:]\n",
    "    if tile in tile_list:\n",
    "        keys.append(filename)\n",
    "len(keys)"
   ]
  },
  {
   "cell_type": "code",
   "execution_count": 15,
   "metadata": {},
   "outputs": [
    {
     "name": "stdout",
     "output_type": "stream",
     "text": [
      "Finshed reprojecting 0 tiles\n",
      "Finshed reprojecting 100 tiles\n",
      "Finshed reprojecting 200 tiles\n",
      "Finshed reprojecting 300 tiles\n",
      "Finshed reprojecting 400 tiles\n",
      "Finshed reprojecting 500 tiles\n",
      "Finshed reprojecting 600 tiles\n",
      "Finshed reprojecting 700 tiles\n",
      "Finshed reprojecting 800 tiles\n",
      "Finshed reprojecting 900 tiles\n",
      "Finshed reprojecting 1000 tiles\n",
      "Finshed reprojecting 1100 tiles\n",
      "Finshed reprojecting 1200 tiles\n",
      "Finshed reprojecting 1300 tiles\n",
      "Finshed reprojecting 1400 tiles\n",
      "Finshed reprojecting 1500 tiles\n",
      "Finshed reprojecting 1600 tiles\n",
      "Finshed reprojecting 1700 tiles\n",
      "Finshed reprojecting 1800 tiles\n",
      "Finshed reprojecting 1900 tiles\n",
      "Finshed reprojecting 2000 tiles\n",
      "Finshed reprojecting 2100 tiles\n",
      "Finshed reprojecting 2200 tiles\n",
      "Finshed reprojecting 2300 tiles\n",
      "Finshed reprojecting 2400 tiles\n",
      "Finshed reprojecting 2500 tiles\n",
      "Finshed reprojecting 2600 tiles\n",
      "Finshed reprojecting 2700 tiles\n",
      "Finshed reprojecting 2800 tiles\n",
      "Finshed reprojecting 2900 tiles\n",
      "Finshed reprojecting 3000 tiles\n",
      "Finshed reprojecting 3100 tiles\n",
      "Finshed reprojecting 3200 tiles\n",
      "Finshed reprojecting 3300 tiles\n",
      "Finshed reprojecting 3400 tiles\n",
      "Finshed reprojecting 3500 tiles\n",
      "Finshed reprojecting 3600 tiles\n",
      "Finshed reprojecting 3700 tiles\n",
      "Finshed reprojecting 3800 tiles\n",
      "Finshed reprojecting 3900 tiles\n",
      "Finshed reprojecting 4000 tiles\n",
      "Finshed reprojecting 4100 tiles\n",
      "Finshed reprojecting 4200 tiles\n",
      "Finshed reprojecting 4300 tiles\n",
      "Finshed reprojecting 4400 tiles\n",
      "Finshed reprojecting 4500 tiles\n",
      "Finshed reprojecting 4600 tiles\n",
      "Finshed reprojecting 4700 tiles\n",
      "Finshed reprojecting 4800 tiles\n",
      "Finshed reprojecting 4900 tiles\n",
      "Finshed reprojecting 5000 tiles\n",
      "Finshed reprojecting 5100 tiles\n",
      "Finshed reprojecting 5200 tiles\n",
      "Finshed reprojecting 5300 tiles\n",
      "Finshed reprojecting 5400 tiles\n",
      "Finshed reprojecting 5500 tiles\n",
      "Finshed reprojecting 5600 tiles\n",
      "Finshed reprojecting 5700 tiles\n",
      "Finshed reprojecting 5800 tiles\n",
      "Finshed reprojecting 5900 tiles\n",
      "Finshed reprojecting 6000 tiles\n",
      "Finshed reprojecting 6100 tiles\n",
      "Finshed reprojecting 6200 tiles\n",
      "Finshed reprojecting 6300 tiles\n",
      "Finshed reprojecting 6400 tiles\n",
      "Finshed reprojecting 6500 tiles\n",
      "Finshed reprojecting 6600 tiles\n",
      "Finshed reprojecting 6700 tiles\n",
      "Finshed reprojecting 6800 tiles\n"
     ]
    }
   ],
   "source": [
    "i = 0\n",
    "reporj_list = os.listdir(local_reproj)\n",
    "for key in keys:\n",
    "    try:\n",
    "        input_raster = f'{local_path}{key}'\n",
    "        dest_path = f'{local_reproj}{key}'\n",
    "        if key in reporj_list:\n",
    "            continue\n",
    "        xds = rioxarray.open_rasterio(input_raster,cache=False)\n",
    "        reproj = xds.rio.reproject(\"EPSG:4326\")\n",
    "        reproj.rio.to_raster(dest_path, tiled=True, windowed=True,compress='deflate')\n",
    "        xds = None\n",
    "        reproj = None\n",
    "    except Exception as e:\n",
    "        print(f'failed to reproject: {key}, error: {e}')\n",
    "    if i%100 == 0:\n",
    "        print(f'Finshed reprojecting {i} tiles')\n",
    "    i = i+1"
   ]
  },
  {
   "cell_type": "code",
   "execution_count": null,
   "metadata": {},
   "outputs": [],
   "source": []
  }
 ],
 "metadata": {
  "kernelspec": {
   "display_name": "mosaic_env",
   "language": "python",
   "name": "python3"
  },
  "language_info": {
   "codemirror_mode": {
    "name": "ipython",
    "version": 3
   },
   "file_extension": ".py",
   "mimetype": "text/x-python",
   "name": "python",
   "nbconvert_exporter": "python",
   "pygments_lexer": "ipython3",
   "version": "3.11.0 | packaged by conda-forge | (main, Oct 25 2022, 06:12:32) [MSC v.1929 64 bit (AMD64)]"
  },
  "orig_nbformat": 4,
  "vscode": {
   "interpreter": {
    "hash": "0c8a6b726cd955ee81a8c0798147a7f86ded4ef432599790671e9b7c71db91e1"
   }
  }
 },
 "nbformat": 4,
 "nbformat_minor": 2
}
