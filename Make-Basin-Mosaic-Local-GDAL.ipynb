{
 "cells": [
  {
   "cell_type": "code",
   "execution_count": null,
   "metadata": {},
   "outputs": [],
   "source": [
    "import rasterio\n",
    "from rasterio.merge import merge\n",
    "from rasterio.plot import show\n",
    "import geopandas as gpd\n",
    "from shapely.geometry import box\n",
    "from rasterio.crs import CRS\n",
    "from rasterio.warp import transform_bounds\n",
    "from rasterio.warp import calculate_default_transform, reproject, Resampling\n",
    "import rioxarray\n",
    "import xarray\n",
    "from rioxarray.merge import merge_arrays\n",
    "import os"
   ]
  },
  {
   "cell_type": "code",
   "execution_count": null,
   "metadata": {},
   "outputs": [],
   "source": [
    "bucket_name = 'opera-pst-rs-pop1'\n",
    "local_path = \"C:/Users/Matthew Bonnema/Documents/dswx_data/wtr/\"\n",
    "local_dest = \"C:/Users/Matthew Bonnema/Documents/dswx_data/mosaic/\""
   ]
  },
  {
   "cell_type": "code",
   "execution_count": null,
   "metadata": {},
   "outputs": [],
   "source": [
    "with open('dswx_manifest.txt') as f:\n",
    "    lines = f.readlines()\n",
    "\n",
    "print(lines[0])"
   ]
  },
  {
   "cell_type": "code",
   "execution_count": null,
   "metadata": {},
   "outputs": [],
   "source": [
    "cont = 'na' # af,as,au,na,sa,eu\n",
    "lvl = '03'"
   ]
  },
  {
   "cell_type": "code",
   "execution_count": null,
   "metadata": {},
   "outputs": [],
   "source": [
    "basin_path  = f'./shapefiles/basins/hybas_{cont}/hybas_{cont}_lev{lvl}_v1c.shp'\n",
    "basin_gdf = gpd.read_file(basin_path)\n",
    "basin_gdf.head()"
   ]
  },
  {
   "cell_type": "code",
   "execution_count": null,
   "metadata": {},
   "outputs": [],
   "source": [
    "mrg_gdf = gpd.read_file('./shapefiles/world_mgrs/mgrs_region.shp') \n",
    "mrg_gdf.head()"
   ]
  },
  {
   "cell_type": "code",
   "execution_count": null,
   "metadata": {},
   "outputs": [],
   "source": [
    "def make_mosaic(basinID):\n",
    "    try:\n",
    "        mosaics_list = os.listdir(local_dest)\n",
    "\n",
    "        if f'{cont}_basin{basinID}_WTR.tif' in mosaics_list:\n",
    "            print(f'mosaic alreaddy exists for basin {basinID}')\n",
    "            return\n",
    "        target_basin =  basin_gdf[basin_gdf.PFAF_ID==basinID]\n",
    "        grid_codes = gpd.sjoin(mrg_gdf,target_basin)\n",
    "        \n",
    "        tile_list = []\n",
    "        for row in grid_codes.iterrows():\n",
    "            tile_list.append(row[1].iloc[0]+row[1].iloc[1])\n",
    "        \n",
    "        keys = []\n",
    "        for line in lines:\n",
    "            prefix = line.split(bucket_name+'/')[-1][:-2]\n",
    "            filename = prefix.split('/')[-1]+'_B01_WTR.tiff'\n",
    "            tile = filename.split('_')[4][1:]\n",
    "            if tile in tile_list:\n",
    "                keys.append(filename)\n",
    "        \n",
    "        if len(keys) == 0:\n",
    "            print(f'no prodducts found for basin: {basinID}')\n",
    "        elif f'{cont}_basin{basinID}_WTR.tif' in mosaics_list:\n",
    "            print(f'mosaic alreaddy exists for basin {basinID}')\n",
    "        else:\n",
    "            ds_to_mosaic = []\n",
    "            i = 0\n",
    "            for key in keys:\n",
    "                file_path = f'{local_path}{key}'\n",
    "                xds = rioxarray.open_rasterio(file_path,cache=False)\n",
    "                reproj = xds.rio.reproject(\"EPSG:4326\")\n",
    "                ds_to_mosaic.append(reproj)\n",
    "                xds.close()\n",
    "                reproj.close()\n",
    "                del xds\n",
    "                del  reproj\n",
    "\n",
    "            merged_raster =  merge_arrays(dataarrays = ds_to_mosaic, crs=\"EPSG:4326\", nodata = 255)\n",
    "            merged_raster.rio.to_raster(f'{local_dest}{cont}_basin{basinID}_WTR.tif', tiled=True, windowed=True)\n",
    "            merged_raster.close()\n",
    "            del merged_raster\n",
    "            del ds_to_mosaic\n",
    "            print(f'completed mosaic for basin {basinID}')\n",
    "    except Exception as e:\n",
    "        print(f'failed to make mosaic for basin {basinID}, error: {e}')"
   ]
  },
  {
   "cell_type": "code",
   "execution_count": null,
   "metadata": {},
   "outputs": [],
   "source": [
    "for row in basin_gdf.iterrows():\n",
    "    ID = row[1]['PFAF_ID']\n",
    "    make_mosaic(ID)"
   ]
  },
  {
   "cell_type": "code",
   "execution_count": null,
   "metadata": {},
   "outputs": [],
   "source": []
  }
 ],
 "metadata": {
  "kernelspec": {
   "display_name": "Python 3.11.0 ('mosaic_env')",
   "language": "python",
   "name": "python3"
  },
  "language_info": {
   "codemirror_mode": {
    "name": "ipython",
    "version": 3
   },
   "file_extension": ".py",
   "mimetype": "text/x-python",
   "name": "python",
   "nbconvert_exporter": "python",
   "pygments_lexer": "ipython3",
   "version": "3.11.0 | packaged by conda-forge | (main, Oct 25 2022, 06:12:32) [MSC v.1929 64 bit (AMD64)]"
  },
  "orig_nbformat": 4,
  "vscode": {
   "interpreter": {
    "hash": "0c8a6b726cd955ee81a8c0798147a7f86ded4ef432599790671e9b7c71db91e1"
   }
  }
 },
 "nbformat": 4,
 "nbformat_minor": 2
}
