{
 "cells": [
  {
   "cell_type": "code",
   "execution_count": 1,
   "metadata": {},
   "outputs": [],
   "source": [
    "import boto3\n",
    "import os"
   ]
  },
  {
   "cell_type": "code",
   "execution_count": 8,
   "metadata": {},
   "outputs": [],
   "source": [
    "bucket_name = 'opera-pst-rs-pop1'\n",
    "local_data  = \"C:/Users/Matthew Bonnema/Documents/dswx_data/wtr/\""
   ]
  },
  {
   "cell_type": "code",
   "execution_count": 3,
   "metadata": {},
   "outputs": [
    {
     "name": "stdout",
     "output_type": "stream",
     "text": [
      "s3://opera-pst-rs-pop1/products/OPERA_L3_DSWx_HLS_T01GDM_20220101T214749Z_20221125T202742Z_S2B_30_v0.0/\n",
      "\n"
     ]
    }
   ],
   "source": [
    "with open('dswx_manifest.txt') as f:\n",
    "    lines = f.readlines()\n",
    "\n",
    "print(lines[0])"
   ]
  },
  {
   "cell_type": "code",
   "execution_count": 4,
   "metadata": {},
   "outputs": [
    {
     "name": "stdout",
     "output_type": "stream",
     "text": [
      "products/OPERA_L3_DSWx_HLS_T01GDM_20220101T214749Z_20221125T202742Z_S2B_30_v0.0/OPERA_L3_DSWx_HLS_T01GDM_20220101T214749Z_20221125T202742Z_S2B_30_v0.0_B06_WTR-2.tiff\n"
     ]
    }
   ],
   "source": [
    "keys = []\n",
    "for line in lines:\n",
    "    prefix = line.split(bucket_name+'/')[-1][:-2]\n",
    "    filename = prefix.split('/')[-1]+'_B01_WTR.tiff'#'_B06_WTR-2.tiff'\n",
    "    keys.append(prefix+'/'+filename)\n",
    "print(keys[0])"
   ]
  },
  {
   "cell_type": "code",
   "execution_count": 11,
   "metadata": {},
   "outputs": [],
   "source": [
    "session = boto3.session.Session(profile_name='saml-pub')\n",
    "s3 = session.client('s3')"
   ]
  },
  {
   "cell_type": "code",
   "execution_count": 12,
   "metadata": {},
   "outputs": [],
   "source": [
    "files =  os.listdir(local_data)\n",
    "for key in keys[0:10]:\n",
    "    filename = key.split('/')[-1]\n",
    "    if  filename not in files:\n",
    "        print('skip')"
   ]
  },
  {
   "cell_type": "code",
   "execution_count": 14,
   "metadata": {},
   "outputs": [
    {
     "name": "stdout",
     "output_type": "stream",
     "text": [
      "downloaded 0 products\n",
      "downloaded 1000 products\n",
      "downloaded 2000 products\n",
      "downloaded 3000 products\n",
      "downloaded 4000 products\n",
      "downloaded 5000 products\n",
      "downloaded 6000 products\n",
      "downloaded 7000 products\n",
      "downloaded 8000 products\n",
      "downloaded 9000 products\n",
      "downloaded 10000 products\n",
      "downloaded 11000 products\n",
      "downloaded 12000 products\n",
      "downloaded 13000 products\n",
      "downloaded 14000 products\n",
      "downloaded 15000 products\n",
      "downloaded 16000 products\n",
      "downloaded 17000 products\n",
      "downloaded 18000 products\n",
      "failed to download OPERA_L3_DSWx_HLS_T31TDK_20220107T104431Z_20221126T212801Z_S2A_30_v0.0_B06_WTR-2.tiff\n",
      "downloaded 19000 products\n",
      "downloaded 20000 products\n",
      "downloaded 21000 products\n",
      "downloaded 22000 products\n",
      "downloaded 23000 products\n",
      "downloaded 24000 products\n",
      "downloaded 25000 products\n",
      "downloaded 26000 products\n",
      "downloaded 27000 products\n",
      "downloaded 28000 products\n",
      "downloaded 29000 products\n",
      "downloaded 30000 products\n",
      "downloaded 31000 products\n",
      "downloaded 32000 products\n",
      "downloaded 33000 products\n",
      "failed to download OPERA_L3_DSWx_HLS_T43QBA_20220105T052803Z_20221124T225618Z_L8_30_v0.0_B06_WTR-2.tiff\n",
      "downloaded 34000 products\n",
      "downloaded 35000 products\n",
      "downloaded 36000 products\n",
      "downloaded 37000 products\n",
      "downloaded 38000 products\n",
      "downloaded 39000 products\n",
      "downloaded 40000 products\n",
      "downloaded 41000 products\n",
      "downloaded 42000 products\n",
      "downloaded 43000 products\n",
      "downloaded 44000 products\n",
      "downloaded 45000 products\n",
      "downloaded 46000 products\n",
      "downloaded 47000 products\n",
      "downloaded 48000 products\n",
      "downloaded 49000 products\n",
      "downloaded 50000 products\n"
     ]
    }
   ],
   "source": [
    "i = 0\n",
    "for key in keys:\n",
    "    filename = key.split('/')[-1]\n",
    "    if filename not in files:\n",
    "        try:\n",
    "            s3.download_file(bucket_name,key,local_data+filename)\n",
    "        except Exception as e:\n",
    "            print(f'failed to download {filename}')\n",
    "    if i%1000 == 0:\n",
    "        print(f'downloaded {i} products')\n",
    "    i = i+1"
   ]
  },
  {
   "cell_type": "code",
   "execution_count": null,
   "metadata": {},
   "outputs": [],
   "source": []
  }
 ],
 "metadata": {
  "kernelspec": {
   "display_name": "Python 3.9.13 ('base')",
   "language": "python",
   "name": "python3"
  },
  "language_info": {
   "codemirror_mode": {
    "name": "ipython",
    "version": 3
   },
   "file_extension": ".py",
   "mimetype": "text/x-python",
   "name": "python",
   "nbconvert_exporter": "python",
   "pygments_lexer": "ipython3",
   "version": "3.9.13 (main, Aug 25 2022, 23:51:50) [MSC v.1916 64 bit (AMD64)]"
  },
  "orig_nbformat": 4,
  "vscode": {
   "interpreter": {
    "hash": "6025957f32eb888508331571409cd27a93ea076751228ba60c3b5d9749a5059a"
   }
  }
 },
 "nbformat": 4,
 "nbformat_minor": 2
}
