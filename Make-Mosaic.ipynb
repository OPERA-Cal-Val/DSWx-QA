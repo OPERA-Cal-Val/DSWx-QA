{
 "cells": [
  {
   "cell_type": "code",
   "execution_count": 1,
   "metadata": {},
   "outputs": [],
   "source": [
    "import boto3\n",
    "import rasterio\n",
    "from rasterio.merge import merge\n",
    "from rasterio.plot import show\n",
    "import geopandas as gpd\n",
    "from shapely.geometry import box\n",
    "from rasterio.crs import CRS\n",
    "from rasterio.warp import transform_bounds\n",
    "from rasterio.warp import calculate_default_transform, reproject, Resampling\n",
    "import rioxarray\n",
    "import xarray\n",
    "from rioxarray.merge import merge_arrays"
   ]
  },
  {
   "cell_type": "markdown",
   "metadata": {},
   "source": []
  },
  {
   "cell_type": "code",
   "execution_count": 2,
   "metadata": {},
   "outputs": [],
   "source": [
    "bucket_name = 'opera-pst-rs-pop1'"
   ]
  },
  {
   "cell_type": "code",
   "execution_count": 3,
   "metadata": {},
   "outputs": [],
   "source": [
    "session = boto3.session.Session(profile_name='saml-pub')\n",
    "s3 = session.resource('s3')\n",
    "s3_client = session.client('s3')"
   ]
  },
  {
   "cell_type": "code",
   "execution_count": 4,
   "metadata": {},
   "outputs": [],
   "source": [
    "bucket = s3.Bucket(bucket_name)"
   ]
  },
  {
   "cell_type": "code",
   "execution_count": 5,
   "metadata": {},
   "outputs": [
    {
     "name": "stdout",
     "output_type": "stream",
     "text": [
      "s3://opera-pst-rs-pop1/products/OPERA_L3_DSWx_HLS_T01GDM_20220101T214749Z_20221125T202742Z_S2B_30_v0.0/\n",
      "\n"
     ]
    }
   ],
   "source": [
    "with open('dswx_manifest.txt') as f:\n",
    "    lines = f.readlines()\n",
    "\n",
    "print(lines[0])"
   ]
  },
  {
   "cell_type": "code",
   "execution_count": 6,
   "metadata": {},
   "outputs": [
    {
     "name": "stdout",
     "output_type": "stream",
     "text": [
      "products/OPERA_L3_DSWx_HLS_T01GDM_20220101T214749Z_20221125T202742Z_S2B_30_v0.0/OPERA_L3_DSWx_HLS_T01GDM_20220101T214749Z_20221125T202742Z_S2B_30_v0.0_B01_WTR.tiff\n"
     ]
    }
   ],
   "source": [
    "keys = []\n",
    "for line in lines:\n",
    "    prefix = line.split(bucket_name+'/')[-1][:-2]\n",
    "    filename = prefix.split('/')[-1]+'_B01_WTR.tiff'\n",
    "    keys.append(prefix+'/'+filename)\n",
    "#print(keys[25000])\n",
    "#s3_path = f'https://{bucket_name}.s3.us-west-2.amazonaws.com/{keys[25000]}'\n",
    "#with rasterio.open(s3_path) as ds:\n",
    "#    show(ds)\n",
    "print(keys[0])"
   ]
  },
  {
   "cell_type": "code",
   "execution_count": 7,
   "metadata": {},
   "outputs": [
    {
     "data": {
      "text/html": [
       "<div>\n",
       "<style scoped>\n",
       "    .dataframe tbody tr th:only-of-type {\n",
       "        vertical-align: middle;\n",
       "    }\n",
       "\n",
       "    .dataframe tbody tr th {\n",
       "        vertical-align: top;\n",
       "    }\n",
       "\n",
       "    .dataframe thead th {\n",
       "        text-align: right;\n",
       "    }\n",
       "</style>\n",
       "<table border=\"1\" class=\"dataframe\">\n",
       "  <thead>\n",
       "    <tr style=\"text-align: right;\">\n",
       "      <th></th>\n",
       "      <th>HYBAS_ID</th>\n",
       "      <th>NEXT_DOWN</th>\n",
       "      <th>NEXT_SINK</th>\n",
       "      <th>MAIN_BAS</th>\n",
       "      <th>DIST_SINK</th>\n",
       "      <th>DIST_MAIN</th>\n",
       "      <th>SUB_AREA</th>\n",
       "      <th>UP_AREA</th>\n",
       "      <th>PFAF_ID</th>\n",
       "      <th>ENDO</th>\n",
       "      <th>COAST</th>\n",
       "      <th>ORDER</th>\n",
       "      <th>SORT</th>\n",
       "      <th>geometry</th>\n",
       "    </tr>\n",
       "  </thead>\n",
       "  <tbody>\n",
       "    <tr>\n",
       "      <th>0</th>\n",
       "      <td>1020000010</td>\n",
       "      <td>0</td>\n",
       "      <td>1020000010</td>\n",
       "      <td>1020000010</td>\n",
       "      <td>0.0</td>\n",
       "      <td>0.0</td>\n",
       "      <td>3258330.6</td>\n",
       "      <td>3258330.6</td>\n",
       "      <td>11</td>\n",
       "      <td>0</td>\n",
       "      <td>1</td>\n",
       "      <td>0</td>\n",
       "      <td>1</td>\n",
       "      <td>MULTIPOLYGON (((33.67778 27.62917, 33.67119 27...</td>\n",
       "    </tr>\n",
       "    <tr>\n",
       "      <th>1</th>\n",
       "      <td>1020011530</td>\n",
       "      <td>0</td>\n",
       "      <td>1020011530</td>\n",
       "      <td>1020011530</td>\n",
       "      <td>0.0</td>\n",
       "      <td>0.0</td>\n",
       "      <td>4660080.9</td>\n",
       "      <td>4660080.9</td>\n",
       "      <td>12</td>\n",
       "      <td>0</td>\n",
       "      <td>1</td>\n",
       "      <td>0</td>\n",
       "      <td>2</td>\n",
       "      <td>MULTIPOLYGON (((34.80278 -19.81667, 34.79279 -...</td>\n",
       "    </tr>\n",
       "    <tr>\n",
       "      <th>2</th>\n",
       "      <td>1020018110</td>\n",
       "      <td>0</td>\n",
       "      <td>1020018110</td>\n",
       "      <td>1020018110</td>\n",
       "      <td>0.0</td>\n",
       "      <td>0.0</td>\n",
       "      <td>4900405.1</td>\n",
       "      <td>4900405.1</td>\n",
       "      <td>13</td>\n",
       "      <td>0</td>\n",
       "      <td>1</td>\n",
       "      <td>0</td>\n",
       "      <td>3</td>\n",
       "      <td>MULTIPOLYGON (((5.64444 -1.47083, 5.62972 -1.4...</td>\n",
       "    </tr>\n",
       "    <tr>\n",
       "      <th>3</th>\n",
       "      <td>1020021940</td>\n",
       "      <td>0</td>\n",
       "      <td>1020021940</td>\n",
       "      <td>1020021940</td>\n",
       "      <td>0.0</td>\n",
       "      <td>0.0</td>\n",
       "      <td>4046600.5</td>\n",
       "      <td>4046600.5</td>\n",
       "      <td>14</td>\n",
       "      <td>0</td>\n",
       "      <td>1</td>\n",
       "      <td>0</td>\n",
       "      <td>4</td>\n",
       "      <td>MULTIPOLYGON (((0.97778 5.98750, 0.97022 5.988...</td>\n",
       "    </tr>\n",
       "    <tr>\n",
       "      <th>4</th>\n",
       "      <td>1020027430</td>\n",
       "      <td>0</td>\n",
       "      <td>1020027430</td>\n",
       "      <td>1020027430</td>\n",
       "      <td>0.0</td>\n",
       "      <td>0.0</td>\n",
       "      <td>6923559.6</td>\n",
       "      <td>6923559.6</td>\n",
       "      <td>15</td>\n",
       "      <td>0</td>\n",
       "      <td>1</td>\n",
       "      <td>0</td>\n",
       "      <td>5</td>\n",
       "      <td>MULTIPOLYGON (((23.28611 32.22083, 23.28133 32...</td>\n",
       "    </tr>\n",
       "  </tbody>\n",
       "</table>\n",
       "</div>"
      ],
      "text/plain": [
       "     HYBAS_ID  NEXT_DOWN   NEXT_SINK    MAIN_BAS  DIST_SINK  DIST_MAIN  \\\n",
       "0  1020000010          0  1020000010  1020000010        0.0        0.0   \n",
       "1  1020011530          0  1020011530  1020011530        0.0        0.0   \n",
       "2  1020018110          0  1020018110  1020018110        0.0        0.0   \n",
       "3  1020021940          0  1020021940  1020021940        0.0        0.0   \n",
       "4  1020027430          0  1020027430  1020027430        0.0        0.0   \n",
       "\n",
       "    SUB_AREA    UP_AREA  PFAF_ID  ENDO  COAST  ORDER  SORT  \\\n",
       "0  3258330.6  3258330.6       11     0      1      0     1   \n",
       "1  4660080.9  4660080.9       12     0      1      0     2   \n",
       "2  4900405.1  4900405.1       13     0      1      0     3   \n",
       "3  4046600.5  4046600.5       14     0      1      0     4   \n",
       "4  6923559.6  6923559.6       15     0      1      0     5   \n",
       "\n",
       "                                            geometry  \n",
       "0  MULTIPOLYGON (((33.67778 27.62917, 33.67119 27...  \n",
       "1  MULTIPOLYGON (((34.80278 -19.81667, 34.79279 -...  \n",
       "2  MULTIPOLYGON (((5.64444 -1.47083, 5.62972 -1.4...  \n",
       "3  MULTIPOLYGON (((0.97778 5.98750, 0.97022 5.988...  \n",
       "4  MULTIPOLYGON (((23.28611 32.22083, 23.28133 32...  "
      ]
     },
     "execution_count": 7,
     "metadata": {},
     "output_type": "execute_result"
    }
   ],
   "source": [
    "basin_gdf = gpd.read_file('./hybas_af/hybas_af_lev02_v1c.shp')\n",
    "basin_gdf.head()"
   ]
  },
  {
   "cell_type": "code",
   "execution_count": 8,
   "metadata": {},
   "outputs": [
    {
     "data": {
      "text/html": [
       "<div>\n",
       "<style scoped>\n",
       "    .dataframe tbody tr th:only-of-type {\n",
       "        vertical-align: middle;\n",
       "    }\n",
       "\n",
       "    .dataframe tbody tr th {\n",
       "        vertical-align: top;\n",
       "    }\n",
       "\n",
       "    .dataframe thead th {\n",
       "        text-align: right;\n",
       "    }\n",
       "</style>\n",
       "<table border=\"1\" class=\"dataframe\">\n",
       "  <thead>\n",
       "    <tr style=\"text-align: right;\">\n",
       "      <th></th>\n",
       "      <th>GRID1MIL</th>\n",
       "      <th>GRID100K</th>\n",
       "      <th>LONGITUDE</th>\n",
       "      <th>LATITUDE</th>\n",
       "      <th>geometry</th>\n",
       "    </tr>\n",
       "  </thead>\n",
       "  <tbody>\n",
       "    <tr>\n",
       "      <th>0</th>\n",
       "      <td>33L</td>\n",
       "      <td>SC</td>\n",
       "      <td>12.102867</td>\n",
       "      <td>-15.678288</td>\n",
       "      <td>POLYGON ((12.00000 -16.00000, 12.00000 -15.909...</td>\n",
       "    </tr>\n",
       "    <tr>\n",
       "      <th>1</th>\n",
       "      <td>33L</td>\n",
       "      <td>TC</td>\n",
       "      <td>12.666855</td>\n",
       "      <td>-15.679626</td>\n",
       "      <td>POLYGON ((13.13098 -16.00000, 13.12500 -16.000...</td>\n",
       "    </tr>\n",
       "    <tr>\n",
       "      <th>2</th>\n",
       "      <td>33L</td>\n",
       "      <td>UC</td>\n",
       "      <td>13.599601</td>\n",
       "      <td>-15.684492</td>\n",
       "      <td>POLYGON ((14.06538 -16.00000, 14.06250 -16.000...</td>\n",
       "    </tr>\n",
       "    <tr>\n",
       "      <th>3</th>\n",
       "      <td>33L</td>\n",
       "      <td>VC</td>\n",
       "      <td>14.532691</td>\n",
       "      <td>-15.687415</td>\n",
       "      <td>POLYGON ((15.00000 -16.00000, 14.90625 -16.000...</td>\n",
       "    </tr>\n",
       "    <tr>\n",
       "      <th>4</th>\n",
       "      <td>33L</td>\n",
       "      <td>WC</td>\n",
       "      <td>15.467309</td>\n",
       "      <td>-15.687415</td>\n",
       "      <td>POLYGON ((15.93462 -16.00000, 15.84375 -16.000...</td>\n",
       "    </tr>\n",
       "  </tbody>\n",
       "</table>\n",
       "</div>"
      ],
      "text/plain": [
       "  GRID1MIL GRID100K  LONGITUDE   LATITUDE  \\\n",
       "0      33L       SC  12.102867 -15.678288   \n",
       "1      33L       TC  12.666855 -15.679626   \n",
       "2      33L       UC  13.599601 -15.684492   \n",
       "3      33L       VC  14.532691 -15.687415   \n",
       "4      33L       WC  15.467309 -15.687415   \n",
       "\n",
       "                                            geometry  \n",
       "0  POLYGON ((12.00000 -16.00000, 12.00000 -15.909...  \n",
       "1  POLYGON ((13.13098 -16.00000, 13.12500 -16.000...  \n",
       "2  POLYGON ((14.06538 -16.00000, 14.06250 -16.000...  \n",
       "3  POLYGON ((15.00000 -16.00000, 14.90625 -16.000...  \n",
       "4  POLYGON ((15.93462 -16.00000, 15.84375 -16.000...  "
      ]
     },
     "execution_count": 8,
     "metadata": {},
     "output_type": "execute_result"
    }
   ],
   "source": [
    "mrg_gdf = gpd.read_file('./world_mgrs/mgrs_region.shp') \n",
    "mrg_gdf.head()"
   ]
  },
  {
   "cell_type": "code",
   "execution_count": 9,
   "metadata": {},
   "outputs": [
    {
     "data": {
      "text/plain": [
       "<AxesSubplot: >"
      ]
     },
     "execution_count": 9,
     "metadata": {},
     "output_type": "execute_result"
    },
    {
     "data": {
      "image/png": "[encoded data removed]",
      "text/plain": [
       "<Figure size 640x480 with 1 Axes>"
      ]
     },
     "metadata": {},
     "output_type": "display_data"
    }
   ],
   "source": [
    "target_basin =  basin_gdf[basin_gdf.PFAF_ID==12]\n",
    "target_basin.plot()"
   ]
  },
  {
   "cell_type": "code",
   "execution_count": 10,
   "metadata": {},
   "outputs": [
    {
     "data": {
      "text/plain": [
       "<AxesSubplot: >"
      ]
     },
     "execution_count": 10,
     "metadata": {},
     "output_type": "execute_result"
    },
    {
     "data": {
      "image/png": "[encoded data removed]",
      "text/plain": [
       "<Figure size 640x480 with 1 Axes>"
      ]
     },
     "metadata": {},
     "output_type": "display_data"
    }
   ],
   "source": [
    "grid_codes = gpd.sjoin(mrg_gdf,target_basin)\n",
    "grid_codes.plot()"
   ]
  },
  {
   "cell_type": "code",
   "execution_count": 11,
   "metadata": {},
   "outputs": [
    {
     "data": {
      "text/plain": [
       "688"
      ]
     },
     "execution_count": 11,
     "metadata": {},
     "output_type": "execute_result"
    }
   ],
   "source": [
    "tile_list = []\n",
    "for row in grid_codes.iterrows():\n",
    "    tile_list.append(row[1].iloc[0]+row[1].iloc[1])\n",
    "len(tile_list)"
   ]
  },
  {
   "cell_type": "code",
   "execution_count": 12,
   "metadata": {},
   "outputs": [
    {
     "name": "stdout",
     "output_type": "stream",
     "text": [
      "products/OPERA_L3_DSWx_HLS_T32KQE_20220102T090259Z_20221126T045427Z_S2B_30_v0.0/OPERA_L3_DSWx_HLS_T32KQE_20220102T090259Z_20221126T045427Z_S2B_30_v0.0_B01_WTR.tiff\n",
      "1996\n"
     ]
    }
   ],
   "source": [
    "keys = []\n",
    "for line in lines:\n",
    "    prefix = line.split(bucket_name+'/')[-1][:-2]\n",
    "    filename = prefix.split('/')[-1]+'_B01_WTR.tiff'\n",
    "    tile = filename.split('_')[4][1:]\n",
    "    if tile in tile_list:\n",
    "        keys.append(prefix+'/'+filename)\n",
    "print(keys[0])\n",
    "print(len(keys))"
   ]
  },
  {
   "cell_type": "code",
   "execution_count": 13,
   "metadata": {},
   "outputs": [
    {
     "data": {
      "text/plain": [
       "\"\\nmetadata = {\\n    'geometry':[],\\n    's3_path':[],\\n    }\\nfor key in keys:\\n    s3_path = f'https://{bucket_name}.s3.us-west-2.amazonaws.com/{key}'\\n    with rasterio.open(s3_path) as ds:\\n        bounds = ds.bounds\\n        crs_utm = ds.crs\\n        \\n    bounds_4326 = transform_bounds(crs_utm, CRS.from_epsg(4326), *bounds)\\n    geometry = box(*bounds_4326)\\n\\n    metadata['geometry'].append(geometry)\\n    metadata['s3_path'].append(s3_path)\\ngdf = gpd.GeoDataFrame(metadata)\\ngdf.head()\\n\""
      ]
     },
     "execution_count": 13,
     "metadata": {},
     "output_type": "execute_result"
    }
   ],
   "source": [
    "'''\n",
    "metadata = {\n",
    "    'geometry':[],\n",
    "    's3_path':[],\n",
    "    }\n",
    "for key in keys:\n",
    "    s3_path = f'https://{bucket_name}.s3.us-west-2.amazonaws.com/{key}'\n",
    "    with rasterio.open(s3_path) as ds:\n",
    "        bounds = ds.bounds\n",
    "        crs_utm = ds.crs\n",
    "        \n",
    "    bounds_4326 = transform_bounds(crs_utm, CRS.from_epsg(4326), *bounds)\n",
    "    geometry = box(*bounds_4326)\n",
    "\n",
    "    metadata['geometry'].append(geometry)\n",
    "    metadata['s3_path'].append(s3_path)\n",
    "gdf = gpd.GeoDataFrame(metadata)\n",
    "gdf.head()\n",
    "'''"
   ]
  },
  {
   "cell_type": "code",
   "execution_count": 18,
   "metadata": {},
   "outputs": [
    {
     "name": "stdout",
     "output_type": "stream",
     "text": [
      "Finshed loading 0 tiles\n"
     ]
    }
   ],
   "source": [
    "i = 0\n",
    "for key in keys:\n",
    "    s3_path = f'https://{bucket_name}.s3.us-west-2.amazonaws.com/{key}'\n",
    "    with rioxarray.open_rasterio(s3_path) as xds:\n",
    "        reproj = xds.rio.reproject(\"EPSG:4326\")\n",
    "        if i == 0:\n",
    "            merged_raster = reproj\n",
    "        else:\n",
    "            merged_raster = merge_arrays(dataarrays = [merged_raster,reproj], crs=\"EPSG:4326\", nodata = 255)\n",
    "        #ds_to_mosaic.append(reproj)\n",
    "    if i%100 == 0:\n",
    "        print(f'Finshed loading {i} tiles')\n",
    "    i = i+1\n",
    "#ds_to_mosaic[0]"
   ]
  },
  {
   "cell_type": "code",
   "execution_count": 19,
   "metadata": {},
   "outputs": [
    {
     "data": {
      "text/plain": [
       "<matplotlib.collections.QuadMesh at 0x2086a11b7d0>"
      ]
     },
     "execution_count": 19,
     "metadata": {},
     "output_type": "execute_result"
    },
    {
     "data": {
      "image/png": "[encoded data removed]",
      "text/plain": [
       "<Figure size 640x480 with 2 Axes>"
      ]
     },
     "metadata": {},
     "output_type": "display_data"
    }
   ],
   "source": [
    "#merged_raster.plot()"
   ]
  },
  {
   "cell_type": "code",
   "execution_count": null,
   "metadata": {},
   "outputs": [],
   "source": [
    "ds_to_mosaic = []\n",
    "i = 0\n",
    "for key in keys[]:\n",
    "    s3_path = f'https://{bucket_name}.s3.us-west-2.amazonaws.com/{key}'\n",
    "    xds = rioxarray.open_rasterio(s3_path)\n",
    "    reproj = xds.rio.reproject(\"EPSG:4326\")\n",
    "    ds_to_mosaic.append(reproj)\n",
    "    if i%100 == 0:\n",
    "        print(f'Finshed loading {i} tiles')\n",
    "    i = i+1\n",
    "ds_to_mosaic[0]"
   ]
  },
  {
   "cell_type": "code",
   "execution_count": null,
   "metadata": {},
   "outputs": [],
   "source": [
    "len(ds_to_mosaic)"
   ]
  },
  {
   "cell_type": "code",
   "execution_count": null,
   "metadata": {},
   "outputs": [],
   "source": [
    "merged_raster =  merge_arrays(dataarrays = ds_to_mosaic, crs=\"EPSG:4326\", nodata = 255)\n",
    "#merged_raster.plot()"
   ]
  },
  {
   "cell_type": "code",
   "execution_count": null,
   "metadata": {},
   "outputs": [],
   "source": [
    "merged_raster.rio.to_raster('test_mosaic_xarray3.tif')"
   ]
  },
  {
   "cell_type": "code",
   "execution_count": null,
   "metadata": {},
   "outputs": [],
   "source": [
    "src_files_to_mosaic = []\n",
    "i = 0\n",
    "for key in keys:\n",
    "    s3_path = f'https://{bucket_name}.s3.us-west-2.amazonaws.com/{key}'\n",
    "    src = rasterio.open(s3_path)\n",
    "    src_files_to_mosaic.append(src)\n",
    "    if i%100 == 0:\n",
    "        print(f'Finshed loading {i} tiles')\n",
    "    i = i+1"
   ]
  },
  {
   "cell_type": "code",
   "execution_count": null,
   "metadata": {},
   "outputs": [],
   "source": [
    "dst_crs = 'EPSG:4326'\n",
    "src_files_reproject = []\n",
    "i = 0\n",
    "for src in src_files_to_mosaic:\n",
    "    transform, width, height = calculate_default_transform(\n",
    "        src.crs, dst_crs, src.width, src.height, *src.bounds)\n",
    "    kwargs = src.meta.copy()\n",
    "    kwargs.update({\n",
    "        'crs': dst_crs,\n",
    "        'transform': transform,\n",
    "        'width': width,\n",
    "        'height': height\n",
    "    })\n",
    "    dst = reproject(\n",
    "            source=src,\n",
    "            #src_transform=src.transform,\n",
    "            src_crs=src.crs,\n",
    "            #dst_transform=transform,\n",
    "            dst_crs=dst_crs,\n",
    "            #resampling=Resampling.nearest\n",
    "    )\n",
    "    src_files_reproject.append(dst)\n",
    "    if i%100 == 0:\n",
    "        print(f'Finshed loading {i} tiles')\n",
    "    i =  i+1"
   ]
  },
  {
   "cell_type": "code",
   "execution_count": null,
   "metadata": {},
   "outputs": [],
   "source": [
    "mosaic, out_trans = merge(src_files_to_mosaic)"
   ]
  },
  {
   "cell_type": "code",
   "execution_count": null,
   "metadata": {},
   "outputs": [],
   "source": [
    "show(mosaic)"
   ]
  },
  {
   "cell_type": "code",
   "execution_count": null,
   "metadata": {},
   "outputs": [],
   "source": [
    "src_files_to_mosaic[410].crs"
   ]
  },
  {
   "cell_type": "code",
   "execution_count": null,
   "metadata": {},
   "outputs": [],
   "source": [
    "out_meta = src.meta.copy()\n",
    "out_meta.update({\"ddriver\": \"GTiff\",\n",
    "    \"heighht\": mosaic.shape[1],\n",
    "    \"width\": mosaic.shape[2],\n",
    "    \"transform\": out_trans,\n",
    "    \"crs\": \"epsg:4326\"\n",
    "})\n",
    "with rasterio.open('test_mosaic.tif',\"w\",**out_meta) as dest:\n",
    "    dest.write(mosaic)"
   ]
  },
  {
   "cell_type": "code",
   "execution_count": null,
   "metadata": {},
   "outputs": [],
   "source": []
  }
 ],
 "metadata": {
  "kernelspec": {
   "display_name": "Python 3.11.0 ('mosaic_env')",
   "language": "python",
   "name": "python3"
  },
  "language_info": {
   "codemirror_mode": {
    "name": "ipython",
    "version": 3
   },
   "file_extension": ".py",
   "mimetype": "text/x-python",
   "name": "python",
   "nbconvert_exporter": "python",
   "pygments_lexer": "ipython3",
   "version": "3.11.0"
  },
  "orig_nbformat": 4,
  "vscode": {
   "interpreter": {
    "hash": "0c8a6b726cd955ee81a8c0798147a7f86ded4ef432599790671e9b7c71db91e1"
   }
  }
 },
 "nbformat": 4,
 "nbformat_minor": 2
}
