{
 "cells": [
  {
   "cell_type": "code",
   "execution_count": 12,
   "metadata": {},
   "outputs": [],
   "source": [
    "import rasterio\n",
    "from rasterio.merge import merge\n",
    "from rasterio.plot import show\n",
    "import geopandas as gpd\n",
    "from shapely.geometry import box\n",
    "from rasterio.crs import CRS\n",
    "from rasterio.warp import transform_bounds\n",
    "from rasterio.warp import calculate_default_transform, reproject, Resampling\n",
    "import rioxarray\n",
    "import xarray\n",
    "from rioxarray.merge import merge_arrays\n",
    "import os\n",
    "from osgeo import gdal\n",
    "import glob"
   ]
  },
  {
   "cell_type": "code",
   "execution_count": 6,
   "metadata": {},
   "outputs": [],
   "source": [
    "mosaic_path = \"C:/Users/Matthew Bonnema/Documents/dswx_data/mosaic/\"\n",
    "mosaic_dest = \"C:/Users/Matthew Bonnema/Documents/dswx_data/mosaic_final/\""
   ]
  },
  {
   "cell_type": "code",
   "execution_count": 19,
   "metadata": {},
   "outputs": [],
   "source": [
    "cont = 'af' # af,as,au,na,sa,eu"
   ]
  },
  {
   "cell_type": "code",
   "execution_count": null,
   "metadata": {},
   "outputs": [],
   "source": [
    "\n",
    "            \n",
    "        "
   ]
  },
  {
   "cell_type": "code",
   "execution_count": null,
   "metadata": {},
   "outputs": [],
   "source": []
  },
  {
   "cell_type": "code",
   "execution_count": 20,
   "metadata": {},
   "outputs": [
    {
     "name": "stdout",
     "output_type": "stream",
     "text": [
      "['C:/Users/Matthew Bonnema/Documents/dswx_data/mosaic\\\\af_basin111_WTR.tif', 'C:/Users/Matthew Bonnema/Documents/dswx_data/mosaic\\\\af_basin112_WTR.tif', 'C:/Users/Matthew Bonnema/Documents/dswx_data/mosaic\\\\af_basin113_WTR.tif', 'C:/Users/Matthew Bonnema/Documents/dswx_data/mosaic\\\\af_basin114_WTR.tif', 'C:/Users/Matthew Bonnema/Documents/dswx_data/mosaic\\\\af_basin115_WTR.tif', 'C:/Users/Matthew Bonnema/Documents/dswx_data/mosaic\\\\af_basin116_WTR.tif', 'C:/Users/Matthew Bonnema/Documents/dswx_data/mosaic\\\\af_basin117_WTR.tif', 'C:/Users/Matthew Bonnema/Documents/dswx_data/mosaic\\\\af_basin121_WTR.tif', 'C:/Users/Matthew Bonnema/Documents/dswx_data/mosaic\\\\af_basin122_WTR.tif', 'C:/Users/Matthew Bonnema/Documents/dswx_data/mosaic\\\\af_basin123_WTR.tif', 'C:/Users/Matthew Bonnema/Documents/dswx_data/mosaic\\\\af_basin124_WTR.tif', 'C:/Users/Matthew Bonnema/Documents/dswx_data/mosaic\\\\af_basin125_WTR.tif', 'C:/Users/Matthew Bonnema/Documents/dswx_data/mosaic\\\\af_basin126_WTR.tif', 'C:/Users/Matthew Bonnema/Documents/dswx_data/mosaic\\\\af_basin127_WTR.tif', 'C:/Users/Matthew Bonnema/Documents/dswx_data/mosaic\\\\af_basin128_WTR.tif', 'C:/Users/Matthew Bonnema/Documents/dswx_data/mosaic\\\\af_basin129_WTR.tif', 'C:/Users/Matthew Bonnema/Documents/dswx_data/mosaic\\\\af_basin131_WTR.tif', 'C:/Users/Matthew Bonnema/Documents/dswx_data/mosaic\\\\af_basin132_WTR.tif', 'C:/Users/Matthew Bonnema/Documents/dswx_data/mosaic\\\\af_basin133_WTR.tif', 'C:/Users/Matthew Bonnema/Documents/dswx_data/mosaic\\\\af_basin134_WTR.tif', 'C:/Users/Matthew Bonnema/Documents/dswx_data/mosaic\\\\af_basin141_WTR.tif', 'C:/Users/Matthew Bonnema/Documents/dswx_data/mosaic\\\\af_basin142_WTR.tif', 'C:/Users/Matthew Bonnema/Documents/dswx_data/mosaic\\\\af_basin143_WTR.tif', 'C:/Users/Matthew Bonnema/Documents/dswx_data/mosaic\\\\af_basin144_WTR.tif', 'C:/Users/Matthew Bonnema/Documents/dswx_data/mosaic\\\\af_basin145_WTR.tif', 'C:/Users/Matthew Bonnema/Documents/dswx_data/mosaic\\\\af_basin146_WTR.tif', 'C:/Users/Matthew Bonnema/Documents/dswx_data/mosaic\\\\af_basin147_WTR.tif', 'C:/Users/Matthew Bonnema/Documents/dswx_data/mosaic\\\\af_basin151_WTR.tif', 'C:/Users/Matthew Bonnema/Documents/dswx_data/mosaic\\\\af_basin152_WTR.tif', 'C:/Users/Matthew Bonnema/Documents/dswx_data/mosaic\\\\af_basin153_WTR.tif', 'C:/Users/Matthew Bonnema/Documents/dswx_data/mosaic\\\\af_basin154_WTR.tif', 'C:/Users/Matthew Bonnema/Documents/dswx_data/mosaic\\\\af_basin155_WTR.tif', 'C:/Users/Matthew Bonnema/Documents/dswx_data/mosaic\\\\af_basin156_WTR.tif', 'C:/Users/Matthew Bonnema/Documents/dswx_data/mosaic\\\\af_basin157_WTR.tif', 'C:/Users/Matthew Bonnema/Documents/dswx_data/mosaic\\\\af_basin158_WTR.tif', 'C:/Users/Matthew Bonnema/Documents/dswx_data/mosaic\\\\af_basin159_WTR.tif', 'C:/Users/Matthew Bonnema/Documents/dswx_data/mosaic\\\\af_basin161_WTR.tif', 'C:/Users/Matthew Bonnema/Documents/dswx_data/mosaic\\\\af_basin162_WTR.tif', 'C:/Users/Matthew Bonnema/Documents/dswx_data/mosaic\\\\af_basin171_WTR.tif', 'C:/Users/Matthew Bonnema/Documents/dswx_data/mosaic\\\\af_basin172_WTR.tif', 'C:/Users/Matthew Bonnema/Documents/dswx_data/mosaic\\\\af_basin173_WTR.tif', 'C:/Users/Matthew Bonnema/Documents/dswx_data/mosaic\\\\af_basin181_WTR.tif', 'C:/Users/Matthew Bonnema/Documents/dswx_data/mosaic\\\\af_basin182_WTR.tif', 'C:/Users/Matthew Bonnema/Documents/dswx_data/mosaic\\\\af_basin183_WTR.tif', 'C:/Users/Matthew Bonnema/Documents/dswx_data/mosaic\\\\af_basin184_WTR.tif', 'C:/Users/Matthew Bonnema/Documents/dswx_data/mosaic\\\\af_basin185_WTR.tif', 'C:/Users/Matthew Bonnema/Documents/dswx_data/mosaic\\\\af_basin186_WTR.tif', 'C:/Users/Matthew Bonnema/Documents/dswx_data/mosaic\\\\af_basin187_WTR.tif', 'C:/Users/Matthew Bonnema/Documents/dswx_data/mosaic\\\\af_basin188_WTR.tif']\n"
     ]
    }
   ],
   "source": [
    "mosaic_list = glob.glob(f'{mosaic_path}{cont}_basin[0-9][0-9][0-9]_WTR.tif')\n",
    "print(mosaic_list)"
   ]
  },
  {
   "cell_type": "code",
   "execution_count": 21,
   "metadata": {},
   "outputs": [],
   "source": [
    "vrt = gdal.BuildVRT(\"merged.vrt\",mosaic_list)"
   ]
  },
  {
   "cell_type": "code",
   "execution_count": 22,
   "metadata": {},
   "outputs": [
    {
     "data": {
      "text/plain": [
       "<osgeo.gdal.Dataset; proxy of <Swig Object of type 'GDALDatasetShadow *' at 0x0000025B3CCF9AD0> >"
      ]
     },
     "execution_count": 22,
     "metadata": {},
     "output_type": "execute_result"
    }
   ],
   "source": [
    "gdal.Translate(f'{mosaic_dest}{cont}_WTR.tif',vrt)"
   ]
  },
  {
   "cell_type": "code",
   "execution_count": 23,
   "metadata": {},
   "outputs": [],
   "source": [
    "vrt = None"
   ]
  },
  {
   "cell_type": "code",
   "execution_count": null,
   "metadata": {},
   "outputs": [],
   "source": []
  }
 ],
 "metadata": {
  "kernelspec": {
   "display_name": "mosaic_env",
   "language": "python",
   "name": "python3"
  },
  "language_info": {
   "codemirror_mode": {
    "name": "ipython",
    "version": 3
   },
   "file_extension": ".py",
   "mimetype": "text/x-python",
   "name": "python",
   "nbconvert_exporter": "python",
   "pygments_lexer": "ipython3",
   "version": "3.11.0 | packaged by conda-forge | (main, Oct 25 2022, 06:12:32) [MSC v.1929 64 bit (AMD64)]"
  },
  "orig_nbformat": 4,
  "vscode": {
   "interpreter": {
    "hash": "0c8a6b726cd955ee81a8c0798147a7f86ded4ef432599790671e9b7c71db91e1"
   }
  }
 },
 "nbformat": 4,
 "nbformat_minor": 2
}
