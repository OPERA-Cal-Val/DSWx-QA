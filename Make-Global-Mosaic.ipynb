{
 "cells": [
  {
   "cell_type": "code",
   "execution_count": 6,
   "metadata": {},
   "outputs": [],
   "source": [
    "import rasterio\n",
    "from rasterio.merge import merge\n",
    "from rasterio.plot import show\n",
    "import geopandas as gpd\n",
    "from shapely.geometry import box\n",
    "from rasterio.crs import CRS\n",
    "from rasterio.warp import transform_bounds\n",
    "from rasterio.warp import calculate_default_transform, reproject, Resampling\n",
    "import rioxarray\n",
    "import xarray\n",
    "from rioxarray.merge import merge_arrays\n",
    "import os\n",
    "from osgeo import gdal"
   ]
  },
  {
   "cell_type": "code",
   "execution_count": 7,
   "metadata": {},
   "outputs": [],
   "source": [
    "bucket_name = 'opera-pst-rs-pop1'\n",
    "local_path = \"C:/Users/Matthew Bonnema/Documents/dswx_data/wtr/\"\n",
    "local_reproj = \"C:/Users/Matthew Bonnema/Documents/dswx_data/wtr_reproj/\"\n",
    "local_dest = \"C:/Users/Matthew Bonnema/Documents/dswx_data/mosaic_final/\""
   ]
  },
  {
   "cell_type": "code",
   "execution_count": 8,
   "metadata": {},
   "outputs": [
    {
     "name": "stdout",
     "output_type": "stream",
     "text": [
      "s3://opera-pst-rs-pop1/products/OPERA_L3_DSWx_HLS_T01GDM_20220101T214749Z_20221125T202742Z_S2B_30_v0.0/\n",
      "\n"
     ]
    }
   ],
   "source": [
    "with open('dswx_manifest.txt') as f:\n",
    "    lines = f.readlines()\n",
    "\n",
    "print(lines[0])"
   ]
  },
  {
   "cell_type": "code",
   "execution_count": 11,
   "metadata": {},
   "outputs": [],
   "source": [
    "CONT = ['na']#['af','si','as','au','na','sa','eu'] # af,as,au,na,sa,eu\n",
    "lvl = '01'"
   ]
  },
  {
   "cell_type": "code",
   "execution_count": 12,
   "metadata": {},
   "outputs": [
    {
     "name": "stdout",
     "output_type": "stream",
     "text": [
      "Begin mosaic for na\n",
      "****Read shapefiles\n",
      "****Identify MRG tiles\n",
      "****Identify raster files\n",
      "****Locate reprojected rasters\n",
      "****Build VRT\n",
      "****Write mosaic to file\n"
     ]
    }
   ],
   "source": [
    "for cont in CONT:\n",
    "    try:\n",
    "        print(f'Begin mosaic for {cont}')\n",
    "        print(f'****Read shapefiles')\n",
    "        basin_path  = f'./shapefiles/basins/hybas_{cont}/hybas_{cont}_lev{lvl}_v1c.shp'\n",
    "        basin_gdf = gpd.read_file(basin_path)\n",
    "        mrg_gdf = gpd.read_file('./shapefiles/world_mgrs/mgrs_region.shp') \n",
    "\n",
    "        print(f'****Identify MRG tiles')\n",
    "        target_basin =  basin_gdf\n",
    "        grid_codes = gpd.sjoin(mrg_gdf,target_basin)\n",
    "        tile_list = []\n",
    "        for row in grid_codes.iterrows():\n",
    "            tile_list.append(row[1].iloc[0]+row[1].iloc[1])\n",
    "\n",
    "        print(f'****Identify raster files')\n",
    "        keys = []\n",
    "        for line in lines:\n",
    "            prefix = line.split(bucket_name+'/')[-1][:-2]\n",
    "            filename = prefix.split('/')[-1]+'_B01_WTR.tiff'#'_B06_WTR-2.tiff'#'_B01_WTR.tiff'\n",
    "            tile = filename.split('_')[4][1:]\n",
    "            if tile in tile_list:\n",
    "                keys.append(filename)\n",
    "\n",
    "        print(f'****Locate reprojected rasters')\n",
    "        path_list = []\n",
    "        reporj_list = os.listdir(local_reproj)\n",
    "        for key in keys:\n",
    "            if key in reporj_list:\n",
    "                path_list.append(f'{local_reproj}{key}')\n",
    "            else:\n",
    "                print(f'{key} not found in reprojection folder')\n",
    "\n",
    "        print(f'****Build VRT')\n",
    "        vrt = gdal.BuildVRT(\"merged.vrt\",path_list)\n",
    "        print(f'****Write mosaic to file')\n",
    "        gdal.Translate(f'{local_dest}{cont}_WTR.tif',vrt,options=\"-co COMPRESS=DEFLATE PREDICTOR=2 ZLEVEL=9\")\n",
    "        #gdal.Translate(f'{local_dest}{cont}_WTR2.tif',vrt,options=['COMPRESS=DEFLATE','PREDICTOR=2','ZLEVEL=9'])\n",
    "\n",
    "        vrt = None\n",
    "    except Exception as e:\n",
    "        print(f'Failed to produce {cont} mosaic, error: {e}')"
   ]
  },
  {
   "cell_type": "code",
   "execution_count": null,
   "metadata": {},
   "outputs": [],
   "source": []
  }
 ],
 "metadata": {
  "kernelspec": {
   "display_name": "Python 3.11.0 ('mosaic_env')",
   "language": "python",
   "name": "python3"
  },
  "language_info": {
   "codemirror_mode": {
    "name": "ipython",
    "version": 3
   },
   "file_extension": ".py",
   "mimetype": "text/x-python",
   "name": "python",
   "nbconvert_exporter": "python",
   "pygments_lexer": "ipython3",
   "version": "3.11.0 | packaged by conda-forge | (main, Oct 25 2022, 06:12:32) [MSC v.1929 64 bit (AMD64)]"
  },
  "orig_nbformat": 4,
  "vscode": {
   "interpreter": {
    "hash": "0c8a6b726cd955ee81a8c0798147a7f86ded4ef432599790671e9b7c71db91e1"
   }
  }
 },
 "nbformat": 4,
 "nbformat_minor": 2
}
