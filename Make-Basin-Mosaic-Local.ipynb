{
 "cells": [
  {
   "cell_type": "code",
   "execution_count": null,
   "metadata": {},
   "outputs": [],
   "source": [
    "import rasterio\n",
    "from rasterio.merge import merge\n",
    "from rasterio.plot import show\n",
    "import geopandas as gpd\n",
    "from shapely.geometry import box\n",
    "from rasterio.crs import CRS\n",
    "from rasterio.warp import transform_bounds\n",
    "from rasterio.warp import calculate_default_transform, reproject, Resampling\n",
    "import rioxarray\n",
    "import xarray\n",
    "from rioxarray.merge import merge_arrays"
   ]
  },
  {
   "cell_type": "code",
   "execution_count": null,
   "metadata": {},
   "outputs": [],
   "source": [
    "cont = 'na' # af,as,au,na,sa,eu\n",
    "lvl = '03'\n",
    "basinID = 732"
   ]
  },
  {
   "cell_type": "code",
   "execution_count": null,
   "metadata": {},
   "outputs": [],
   "source": [
    "bucket_name = 'opera-pst-rs-pop1'\n",
    "local_path = \"C:/Users/Matthew Bonnema/Documents/dswx_data/wtr/\""
   ]
  },
  {
   "cell_type": "code",
   "execution_count": null,
   "metadata": {},
   "outputs": [],
   "source": [
    "with open('dswx_manifest.txt') as f:\n",
    "    lines = f.readlines()\n",
    "\n",
    "print(lines[0])"
   ]
  },
  {
   "cell_type": "code",
   "execution_count": null,
   "metadata": {},
   "outputs": [],
   "source": [
    "keys = []\n",
    "for line in lines:\n",
    "    prefix = line.split(bucket_name+'/')[-1][:-2]\n",
    "    filename = prefix.split('/')[-1]+'_B01_WTR.tiff'\n",
    "    keys.append(filename)\n",
    "print(keys[0])"
   ]
  },
  {
   "cell_type": "code",
   "execution_count": null,
   "metadata": {},
   "outputs": [],
   "source": [
    "basin_path  = f'./shapefiles/basins/hybas_{cont}/hybas_{cont}_lev{lvl}_v1c.shp'\n",
    "basin_gdf = gpd.read_file(basin_path)\n",
    "basin_gdf.head()"
   ]
  },
  {
   "cell_type": "code",
   "execution_count": null,
   "metadata": {},
   "outputs": [],
   "source": [
    "mrg_gdf = gpd.read_file('./shapefiles/world_mgrs/mgrs_region.shp') \n",
    "mrg_gdf.head()"
   ]
  },
  {
   "cell_type": "code",
   "execution_count": null,
   "metadata": {},
   "outputs": [],
   "source": [
    "target_basin =  basin_gdf[basin_gdf.PFAF_ID==basinID]\n",
    "target_basin.plot()"
   ]
  },
  {
   "cell_type": "code",
   "execution_count": null,
   "metadata": {},
   "outputs": [],
   "source": [
    "grid_codes = gpd.sjoin(mrg_gdf,target_basin)\n",
    "grid_codes.plot()"
   ]
  },
  {
   "cell_type": "code",
   "execution_count": null,
   "metadata": {},
   "outputs": [],
   "source": [
    "tile_list = []\n",
    "for row in grid_codes.iterrows():\n",
    "    tile_list.append(row[1].iloc[0]+row[1].iloc[1])\n",
    "len(tile_list)"
   ]
  },
  {
   "cell_type": "code",
   "execution_count": null,
   "metadata": {},
   "outputs": [],
   "source": [
    "keys = []\n",
    "for line in lines:\n",
    "    prefix = line.split(bucket_name+'/')[-1][:-2]\n",
    "    filename = prefix.split('/')[-1]+'_B01_WTR.tiff'\n",
    "    tile = filename.split('_')[4][1:]\n",
    "    if tile in tile_list:\n",
    "        keys.append(filename)\n",
    "        #tile_list.remove(tile)\n",
    "print(keys[0])\n",
    "print(len(keys))"
   ]
  },
  {
   "cell_type": "code",
   "execution_count": null,
   "metadata": {},
   "outputs": [],
   "source": [
    "ds_to_mosaic = []\n",
    "i = 0\n",
    "for key in keys:\n",
    "    file_path = f'{local_path}{key}'\n",
    "    #xds = rioxarray.open_rasterio(file_path,chunks={'x':'auto','y':'auto'})\n",
    "    xds = rioxarray.open_rasterio(file_path,cache=False)\n",
    "    reproj = xds.rio.reproject(\"EPSG:4326\")\n",
    "    ds_to_mosaic.append(reproj)\n",
    "    del xds\n",
    "    del  reproj\n",
    "    if i%100 == 0:\n",
    "        print(f'Finshed loading {i} tiles')\n",
    "    i = i+1\n",
    "ds_to_mosaic[0]"
   ]
  },
  {
   "cell_type": "code",
   "execution_count": null,
   "metadata": {},
   "outputs": [],
   "source": [
    "len(ds_to_mosaic)"
   ]
  },
  {
   "cell_type": "code",
   "execution_count": null,
   "metadata": {},
   "outputs": [],
   "source": [
    "merged_raster =  merge_arrays(dataarrays = ds_to_mosaic, crs=\"EPSG:4326\", nodata = 255)\n",
    "#merged_raster.plot()"
   ]
  },
  {
   "cell_type": "code",
   "execution_count": null,
   "metadata": {},
   "outputs": [],
   "source": [
    "merged_raster.rio.to_raster(f'mosaic/{cont}_basin{basinID}_WTR.tif', tiled=True, windowed=True)"
   ]
  },
  {
   "cell_type": "code",
   "execution_count": null,
   "metadata": {},
   "outputs": [],
   "source": []
  }
 ],
 "metadata": {
  "kernelspec": {
   "display_name": "Python 3.11.0 ('mosaic_env')",
   "language": "python",
   "name": "python3"
  },
  "language_info": {
   "codemirror_mode": {
    "name": "ipython",
    "version": 3
   },
   "file_extension": ".py",
   "mimetype": "text/x-python",
   "name": "python",
   "nbconvert_exporter": "python",
   "pygments_lexer": "ipython3",
   "version": "3.11.0 | packaged by conda-forge | (main, Oct 25 2022, 06:12:32) [MSC v.1929 64 bit (AMD64)]"
  },
  "orig_nbformat": 4,
  "vscode": {
   "interpreter": {
    "hash": "0c8a6b726cd955ee81a8c0798147a7f86ded4ef432599790671e9b7c71db91e1"
   }
  }
 },
 "nbformat": 4,
 "nbformat_minor": 2
}
